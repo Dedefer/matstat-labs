{
 "cells": [
  {
   "cell_type": "markdown",
   "metadata": {},
   "source": [
    "# Лабораторная №1. Проверка статистических гипотез\n",
    "\n",
    "> Вариант № 7\n",
    "\n",
    "**Распределения**:\n",
    "\n",
    "$X_1$ ~ N(-1, 2) (объём выборки $n_1$ = 100)\n",
    "\n",
    "$X_2$ ~ R(-2, 0) (объём выборки $n_2$ = 100)\n",
    "\n",
    "$\\sigma_1$ = 2\n",
    "\n",
    "$m_1$ = неизвестно\n",
    "\n",
    "---\n"
   ]
  },
  {
   "cell_type": "markdown",
   "metadata": {},
   "source": [
    "*Импорт необходимых библиотек:*"
   ]
  },
  {
   "cell_type": "code",
   "execution_count": 1,
   "metadata": {},
   "outputs": [],
   "source": [
    "%matplotlib inline\n",
    "import numpy as np\n",
    "from scipy import stats\n",
    "import matplotlib.pyplot as plt"
   ]
  },
  {
   "cell_type": "markdown",
   "metadata": {},
   "source": [
    "## Генерация выборок\n",
    "\n",
    "`x = np.random.<`*`distribution`*`>(`*`...params`*`, `*`size`*`)`, где\n",
    "\n",
    "- *distribution* - распределение;\n",
    "- *...params* - параметры распределения;\n",
    "- *size* - размер выборки\n",
    "\n",
    "Доступные распределения:\n",
    "\n",
    "- нормальное: normal(m, $\\sigma^2$)\n",
    "- равномерное: uniform(a, b)\n",
    "- хи-квадрат: chisquare(k)\n"
   ]
  },
  {
   "cell_type": "code",
   "execution_count": 2,
   "metadata": {},
   "outputs": [],
   "source": [
    "# Размеры выборок\n",
    "n1 = 100\n",
    "n2 = 100\n",
    "# Функции для получения выборок\n",
    "def gen_x1():\n",
    "    return np.random.normal(-1, 2, n1)\n",
    "\n",
    "def gen_x2():\n",
    "    return np.random.uniform(-2, 0, n2)\n",
    "\n",
    "# Конкретные выборки\n",
    "x1, x2 = gen_x1(), gen_x2()"
   ]
  },
  {
   "cell_type": "markdown",
   "metadata": {},
   "source": [
    "## 1. Выборочные характеристики\n",
    "\n",
    "**Необходимо**:\n",
    "\n",
    "1. Описать распределения $X_1$ и $X_2$, найти их МО и дисперсию, указать объём выборок\n",
    "\n",
    "2. Рассчитать выборочные характеристики: среднее, $s$, $s^2$\n",
    "\n",
    "3. Рассчитать выборочные характеристики для совокупной выборки $x_1$ + $x_2$\n"
   ]
  },
  {
   "cell_type": "code",
   "execution_count": 3,
   "metadata": {},
   "outputs": [
    {
     "name": "stdout",
     "output_type": "stream",
     "text": [
      "x1\n",
      "avr:\t -1.2880848683135258\n",
      "s:\t 2.074273798487568\n",
      "s^2:\t  4.259585673181124\n",
      "-----\n",
      "x2\n",
      "avr:\t -0.9532451394337634\n",
      "s:\t 0.5788531646993822\n",
      "s^2:\t  0.3317202764196652\n",
      "-----\n",
      "x1 + x2\n",
      "avr:\t -1.1206650038736448\n",
      "s:\t 1.5281882023226239\n",
      "s^2:\t  2.3236823858094624\n",
      "-----\n"
     ]
    }
   ],
   "source": [
    "# пример вызова функций\n",
    "def decor(name, func):\n",
    "    def dec(x):\n",
    "        print(name)\n",
    "        func(x)\n",
    "        print(\"-----\")\n",
    "    return dec\n",
    "\n",
    "def task1(x):\n",
    "    print(\"avr:\\t\", np.mean(x))\n",
    "    print(\"s:\\t\", np.std(x, ddof=1))\n",
    "    print(\"s^2:\\t \", np.var(x))\n",
    "    \n",
    "decor(\"x1\", task1)(x1)\n",
    "decor(\"x2\", task1)(x2)\n",
    "\n",
    "pooled = np.concatenate([x1, x2])\n",
    "decor(\"x1 + x2\", task1)(pooled)"
   ]
  },
  {
   "cell_type": "markdown",
   "metadata": {},
   "source": [
    "**Указания**:\n",
    "\n",
    "- `np.mean` - среднее значение\n",
    "- `np.std` - $s$ - оценка с.к.о.\n",
    "- `np.var` - $s^2$ - оценка дисперсии"
   ]
  },
  {
   "cell_type": "markdown",
   "metadata": {},
   "source": [
    "## 2. Однопараметрические критерии\n",
    "\n",
    "**Необходимо**:\n",
    "\n",
    "Для СВ $X_1$ сформулировать гипотезы $H_0$, проверяемые следующими тестами:\n",
    "\n",
    "1. z-test\n",
    "2. t-test\n",
    "3. $\\chi^2-test$ ($m$ известно)\n",
    "4. $\\chi^2-test$ ($m$ неизвестно)\n",
    "\n",
    "Для каждой гипотезы рассчитать выборочное значение статистики критерия, p-value, выбрать уровень значимости $\\alpha$ и рассчитать ошибку статистического решения."
   ]
  },
  {
   "cell_type": "markdown",
   "metadata": {},
   "source": [
    "**Указания**:\n",
    "\n",
    "Для получения свойств стандартных распределений используем модуль `stats`:\n",
    "\n",
    "- для нормального распределения `stats.norm`;\n",
    "- для Стьюдента `stats.t`;\n",
    "- для хи-квадрат `stats.chi2`.\n",
    "\n",
    "Квантиль распределения: `stats.<distribution>.ppf(<уровень значимости>, ...<параметры распределения>)`\n",
    "\n",
    "Функция распределения: F(x) = `stats.<distribution>.cdf(x, ...<параметры распределения>)`\n",
    "\n",
    "Функция плотности вероятности: f(x) = `stats.<distribution>.pdf(x, ...<параметры распределения>)`"
   ]
  },
  {
   "cell_type": "markdown",
   "metadata": {},
   "source": [
    "Гипотеза $H_{01}: X_1 ~ N(m_0 = -1, \\sigma^2 = 4)$ на уровне значимости $\\alpha = .1$ при альтернативной двусторонней гипотезе ($\\sigma^2$ = 2)\n",
    "\n",
    "Гипотеза $H_{02}: X_1 ~ N(m_0 = 2, \\sigma^2)$ на уровне значимости $\\alpha = .05$ при альтернативной двусторонней гипотезе ($\\sigma$ считаем неизвестным)\n",
    "\n",
    "Гипотеза $H_{03}: X_1 ~ N(m = 5, \\sigma_0^2 = 9.1)$ на уровне значимости $\\alpha = .05$ при альтернативной двусторонней гипотезе (m считаем известным)\n",
    "\n",
    "Гипотеза $H_{04}: X_1 ~ N(m, \\sigma_0^2 = 9)$ на уровне значимости $\\alpha = .01$ при альтернативной двусторонней гипотезе (m считаем неизвестным):"
   ]
  },
  {
   "cell_type": "code",
   "execution_count": 4,
   "metadata": {},
   "outputs": [
    {
     "name": "stdout",
     "output_type": "stream",
     "text": [
      "1: Значение критерия: -1.4404243415676288\n",
      " критическое значение слева: -1.6448536269514729, критическое значение справа: 1.6448536269514722\n",
      " ошибка первого рода: 0.1\n",
      "Гипотеза H0_1 принимается\n",
      "2: Значение критерия: -15.851739874991399\n",
      " критическое значение слева: -1.9842169515086832, критическое значение справа: 1.9842169515086827\n",
      " ошибка первого рода: 0.05\n",
      "Гипотеза H0_2 отклоняется\n",
      "3: Значение критерия: 481.3142525746665\n",
      " критическое значение слева: 74.22192747492373, критическое значение справа: 129.5611971858366\n",
      " ошибка первого рода: 0.05\n",
      "Гипотеза H0_3 отклоняется\n",
      "4: Значение критерия: 47.32872970201249\n",
      " критическое значение слева: 66.51010530173737, критическое значение справа: 138.98678345093953\n",
      " ошибка первого рода: 0.01\n",
      "Гипотеза H0_4 отклоняется\n"
     ]
    }
   ],
   "source": [
    "def criterion_z_test(sample, m0, sigma):\n",
    "    mean = np.mean(sample)\n",
    "    n = len(sample)\n",
    "    return (mean - m0) / sigma * np.sqrt(n)\n",
    "\n",
    "def criterion_t_test(sample, m0):\n",
    "    s = np.std(sample, ddof=1)\n",
    "    mean = np.mean(sample)\n",
    "    n = len(sample)\n",
    "    return (mean - m0) / s * np.sqrt(n)\n",
    "\n",
    "def criterion_chi2_m(sample, m0, sigma2):\n",
    "    n = len(sample)\n",
    "    dif = (sample - m0)**2\n",
    "    s0 = np.sqrt(dif.sum()/n1)\n",
    "    sigma = np.sqrt(sigma2)\n",
    "    return n*s0**2/sigma**2\n",
    "    \n",
    "\n",
    "def criterion_chi2_no_m(sample, sigma):\n",
    "    n = len(sample)\n",
    "    s_p2 = np.var(sample, ddof=1)\n",
    "    return (n-1)*s_p2/sigma**2\n",
    "\n",
    "\n",
    "z_test_dist = stats.norm\n",
    "t_test_dist = stats.t(n1-1)\n",
    "chi2_test_dist = stats.chi2(n1)\n",
    "chi2_test_nm_dist = stats.chi2(n1-1)\n",
    "\n",
    "\n",
    "\n",
    "# z-test\n",
    "criterion_value_1 = criterion_z_test(x1, -1, 2)\n",
    "alpha_1 = 0.1 \n",
    "normal_quantile_l = z_test_dist.ppf(alpha_1 / 2)\n",
    "normal_quantile_r = z_test_dist.ppf(1 - alpha_1 / 2)\n",
    "is_h0_true_1 = (criterion_value_1>normal_quantile_l)and(criterion_value_1<normal_quantile_r)\n",
    "\n",
    "\n",
    "# t-test\n",
    "criterion_value_2 = criterion_t_test(x1, 2) # значение статистики критерия для гипотезы H0_2: m = m0, сигма неизвестна\n",
    "alpha_2 = 0.05 # задаёмся уровнем значимости\n",
    "student_quantile_l = t_test_dist.ppf(alpha_2 / 2) # рассчитываем квантиль распределения Стьюдента\n",
    "student_quantile_r = t_test_dist.ppf(1 - alpha_2 / 2) # рассчитываем квантиль распределения Стьюдента\n",
    "is_h0_true_2 = (criterion_value_2>student_quantile_l)and(criterion_value_2<student_quantile_r)\n",
    "\n",
    "\n",
    "# chi2-test\n",
    "criterion_value_3 = criterion_chi2_m(x1, 5, 9.1) \n",
    "alpha_3 = 0.05 \n",
    "chi2_quantile_l = chi2_test_dist.ppf(alpha_3 / 2)\n",
    "chi2_quantile_r = chi2_test_dist.ppf(1 - alpha_3 / 2)\n",
    "is_h0_true_3 = (criterion_value_3>chi2_quantile_l)and(criterion_value_3<chi2_quantile_r)\n",
    "\n",
    "\n",
    "# chi2-test_no_m\n",
    "criterion_value_4 = criterion_chi2_no_m(x1, 3) \n",
    "alpha_4 = 0.01 \n",
    "chi2_nm_quantile_l = chi2_test_nm_dist.ppf(alpha_4 / 2)\n",
    "chi2_nm_quantile_r = chi2_test_nm_dist.ppf(1 - alpha_4 / 2)\n",
    "is_h0_true_4 = (criterion_value_4>chi2_nm_quantile_l)and(criterion_value_4<chi2_nm_quantile_r)\n",
    "\n",
    "\n",
    "\n",
    "print(\"1: Значение критерия: {}\\n критическое значение слева: {}, критическое значение справа: {}\\n ошибка первого рода: {}\".format(criterion_value_1, normal_quantile_l, normal_quantile_r, alpha_1))\n",
    "print(\"Гипотеза H0_1 принимается\" if is_h0_true_1 else \"Гипотеза H0_1 отклоняется\")\n",
    "\n",
    "\n",
    "print(\"2: Значение критерия: {}\\n критическое значение слева: {}, критическое значение справа: {}\\n ошибка первого рода: {}\".format(criterion_value_2, student_quantile_l, student_quantile_r, alpha_2))\n",
    "print(\"Гипотеза H0_2 принимается\" if is_h0_true_2 else \"Гипотеза H0_2 отклоняется\")\n",
    "\n",
    "\n",
    "print(\"3: Значение критерия: {}\\n критическое значение слева: {}, критическое значение справа: {}\\n ошибка первого рода: {}\".format(criterion_value_3, chi2_quantile_l, chi2_quantile_r, alpha_3))\n",
    "print(\"Гипотеза H0_3 принимается\" if is_h0_true_3 else \"Гипотеза H0_3 отклоняется\")\n",
    "\n",
    "\n",
    "print(\"4: Значение критерия: {}\\n критическое значение слева: {}, критическое значение справа: {}\\n ошибка первого рода: {}\".format(criterion_value_4, chi2_nm_quantile_l, chi2_nm_quantile_r, alpha_4))\n",
    "print(\"Гипотеза H0_4 принимается\" if is_h0_true_4 else \"Гипотеза H0_4 отклоняется\")\n",
    "\n"
   ]
  },
  {
   "cell_type": "markdown",
   "metadata": {},
   "source": [
    "### P-value\n",
    "\n",
    "Рассчёт p-value для право-, лево- и двусторонней альтернативных гипотез:"
   ]
  },
  {
   "cell_type": "code",
   "execution_count": 5,
   "metadata": {},
   "outputs": [
    {
     "name": "stdout",
     "output_type": "stream",
     "text": [
      "Z test::\n",
      " Двустороннее p-value: 0.14974738105780463, левостороннее: 0.07487369052890232, правостороннее: 0.9251263094710976\n",
      "\n",
      "\n",
      "T test::\n",
      " Двустороннее p-value: 6.441742054492316e-29, левостороннее: 3.220871027246158e-29, правостороннее: 1.0\n",
      "\n",
      "\n",
      "chi2 test::\n",
      " Двустороннее p-value: 0.0, левостороннее: 1.0, правостороннее: 0.0\n",
      "\n",
      "\n",
      "chi2 no m test::\n",
      " Двустороннее p-value: 4.759076577513732e-06, левостороннее: 2.379538288756866e-06, правостороннее: 0.9999976204617113\n",
      "\n",
      "\n"
     ]
    }
   ],
   "source": [
    "# статистика критерия в предыдущем примере распределена как T(n2 - 1)\n",
    "def left_p_value(dist, criterion_value):\n",
    "    return dist.cdf(criterion_value)\n",
    "\n",
    "def right_p_value(dist, criterion_value):\n",
    "    return 1 - dist.cdf(criterion_value)\n",
    "\n",
    "def two_sided_p_value(dist, criterion_value):\n",
    "    left_p = left_p_value(dist, criterion_value)\n",
    "    return 2 * min(left_p, 1 - left_p)\n",
    "\n",
    "\n",
    "#z_test_dist = stats.norm\n",
    "#t_test_dist = stats.t(n1-1)\n",
    "#chi2_test_dist = stats.chi2(n1)\n",
    "#chi2_test_nm_dist = stats.chi2(n1-1)\n",
    "\n",
    "print(\"Z test::\\n Двустороннее p-value: {}, левостороннее: {}, правостороннее: {}\\n\\n\".format( two_sided_p_value(z_test_dist, criterion_value_1), left_p_value(z_test_dist, criterion_value_1), right_p_value(z_test_dist, criterion_value_1) ))\n",
    "print(\"T test::\\n Двустороннее p-value: {}, левостороннее: {}, правостороннее: {}\\n\\n\".format( two_sided_p_value(t_test_dist, criterion_value_2), left_p_value(t_test_dist, criterion_value_2), right_p_value(t_test_dist, criterion_value_2) ))\n",
    "print(\"chi2 test::\\n Двустороннее p-value: {}, левостороннее: {}, правостороннее: {}\\n\\n\".format( two_sided_p_value(chi2_test_dist, criterion_value_3), left_p_value(chi2_test_dist, criterion_value_3), right_p_value(chi2_test_dist, criterion_value_3) ))\n",
    "print(\"chi2 no m test::\\n Двустороннее p-value: {}, левостороннее: {}, правостороннее: {}\\n\\n\".format( two_sided_p_value(chi2_test_nm_dist, criterion_value_4), left_p_value(chi2_test_nm_dist, criterion_value_4), right_p_value(chi2_test_nm_dist, criterion_value_4) ))"
   ]
  },
  {
   "cell_type": "markdown",
   "metadata": {},
   "source": [
    "## 3. Критерии для двух выборок\n",
    "\n",
    "**Необходимо**:\n",
    "\n",
    "Выполнить задания пункта 2 для СВ $X_1$ и $X_2$ и следующих тестов:\n",
    "\n",
    "1. 2-sample t-test\n",
    "2. 2-sample F-test (m известно)\n",
    "3. 2-sample F-test (m неизвестно)\n",
    "_________________________________\n",
    "1) m1=m2   alpha1 = 0.05 альтернативная двусторонняя теория.  m, sigma не известны | $H_02_1$\n",
    "\n",
    "2) sigma1=sigma2  alpha2 = 0.05 альтернативная двусторонняя теория. m известно, sigma не известно | $H_02_2$\n",
    "\n",
    "3) sigma1=sigma2  alpha2 = 0.1 альтернативная двусторонняя теория. m, sigma не известно | $H_02_3$ \n"
   ]
  },
  {
   "cell_type": "code",
   "execution_count": 6,
   "metadata": {},
   "outputs": [
    {
     "name": "stdout",
     "output_type": "stream",
     "text": [
      "1: Значение критерия: -1.0210592412945623\n",
      " критическое значение слева: -1.6525857836172082, критическое значение справа: 1.6525857836172075\n",
      " ошибка первого рода: 0.05\n",
      " Гипотеза H0_2_1 принимается\n",
      " Двустороннее p-value: 0.3084723061896541, левостороннее: 0.15423615309482705, правостороннее: 0.8457638469051729\n",
      "2: Значение критерия: 13.005381001456966\n",
      " критическое значение слева: 0.674194729559777, критическое значение справа: 1.4832509898927289\n",
      " ошибка первого рода: 0.05\n",
      "Гипотеза H0_2_2 отклоняется\n",
      " Двустороннее p-value: 2.220446049250313e-16, левостороннее: 0.9999999999999999, правостороннее: 1.1102230246251565e-16\n",
      "3: Значение критерия: 12.840896309251372\n",
      " критическое значение слева: 0.7173285927924351, критическое значение справа: 1.3940612573481483\n",
      " ошибка первого рода: 0.1\n",
      "Гипотеза H0_2_3 отклоняется\n",
      " Двустороннее p-value: 2.220446049250313e-16, левостороннее: 0.9999999999999999, правостороннее: 1.1102230246251565e-16\n"
     ]
    }
   ],
   "source": [
    "def criterion_t2_test(sample1, sample2):  #это работает только, если sigma1=sigma2\n",
    "    s1 = np.std(sample1, ddof=1)\n",
    "    s2 = np.std(sample2, ddof=1)\n",
    "    n1 = len(sample1)\n",
    "    n2 = len(sample2)\n",
    "    S = (n1 - 1) * s1 * s1 + (n2 - 1) * s2 * s2\n",
    "    S /= n1 + n2 - 2\n",
    "    \n",
    "    m1 = np.mean(sample1)\n",
    "    m2 = np.mean(sample2)\n",
    "    z = (m1 - m2) / S\n",
    "    z /= np.sqrt(1.0 / n1 + 1.0 / n2)\n",
    "    return z\n",
    "\n",
    "def criterion_f_test_m(sample1, sample2, m1, m2):\n",
    "    dif1 = (sample1 - m1)**2\n",
    "    dif2 = (sample2 - m2)**2\n",
    "    s01_sqr = dif1.sum()/n1\n",
    "    s02_sqr = dif2.sum()/n2 \n",
    "    return s01_sqr/s02_sqr\n",
    "\n",
    "def criterion_f_test_no_m(sample1, sample2):\n",
    "    n1, n2 = len(sample1), len(sample2)\n",
    "    s1_p2 = (np.var(sample1))*n1/(n1-1)\n",
    "    s2_p2 = (np.var(sample2))*n2/(n2-1)\n",
    "    return s1_p2/s2_p2\n",
    "\n",
    "\n",
    "t2_test_dist = stats.t(n1+n2-2)\n",
    "f_test_dist = stats.f(n1, n2)\n",
    "f_nm_test_dist = stats.f(n1-1, n2-1)\n",
    "\n",
    "\n",
    "\n",
    "# t2-test\n",
    "criterion_value_t2 = criterion_t2_test(x1, x2)\n",
    "alpha_t2 = 0.05\n",
    "t2_quantile_l = t2_test_dist.ppf(alpha_1 / 2)\n",
    "t2_quantile_r = t2_test_dist.ppf(1 - alpha_1 / 2)\n",
    "is_h0_2_1_true = (criterion_value_t2>t2_quantile_l)and(criterion_value_t2<t2_quantile_r)\n",
    "\n",
    "\n",
    "# f-test\n",
    "criterion_value_f = criterion_f_test_m(x1, x2, -1, -1)\n",
    "alpha_f = 0.05\n",
    "f_quantile_l = f_test_dist.ppf(alpha_f / 2)\n",
    "f_quantile_r = f_test_dist.ppf(1 - alpha_f / 2)\n",
    "is_h0_2_2_true = (criterion_value_f>f_quantile_l)and(criterion_value_f<f_quantile_r)\n",
    "\n",
    "\n",
    "# f_nm-test\n",
    "criterion_value_f_nm = criterion_f_test_no_m(x1, x2)\n",
    "alpha_f_nm = 0.1\n",
    "f_nm_quantile_l = f_nm_test_dist.ppf(alpha_f_nm / 2)\n",
    "f_nm_quantile_r = f_nm_test_dist.ppf(1 - alpha_f_nm / 2)\n",
    "is_h0_2_3_true = (criterion_value_f_nm>f_nm_quantile_l)and(criterion_value_f_nm<f_nm_quantile_r)\n",
    "\n",
    "\n",
    "\n",
    "\n",
    "print(\"1: Значение критерия: {}\\n критическое значение слева: {}, критическое значение справа: {}\\n ошибка первого рода: {}\".format(criterion_value_t2, t2_quantile_l, t2_quantile_r, alpha_t2))\n",
    "print(\" Гипотеза H0_2_1 принимается\" if is_h0_2_1_true else \"Гипотеза H0_2_1 отклоняется\")\n",
    "print(\" Двустороннее p-value: {}, левостороннее: {}, правостороннее: {}\".format( two_sided_p_value(t2_test_dist, criterion_value_t2), left_p_value(t2_test_dist, criterion_value_t2), right_p_value(t2_test_dist, criterion_value_t2) ))\n",
    "\n",
    "print(\"2: Значение критерия: {}\\n критическое значение слева: {}, критическое значение справа: {}\\n ошибка первого рода: {}\".format(criterion_value_f, f_quantile_l, f_quantile_r, alpha_f))\n",
    "print(\" Гипотеза H0_2_2 принимается\" if is_h0_2_2_true else \"Гипотеза H0_2_2 отклоняется\")\n",
    "print(\" Двустороннее p-value: {}, левостороннее: {}, правостороннее: {}\".format( two_sided_p_value(f_test_dist, criterion_value_f), left_p_value(f_test_dist, criterion_value_f), right_p_value(f_test_dist, criterion_value_f) ))\n",
    "\n",
    "print(\"3: Значение критерия: {}\\n критическое значение слева: {}, критическое значение справа: {}\\n ошибка первого рода: {}\".format(criterion_value_f_nm, f_nm_quantile_l, f_nm_quantile_r, alpha_f_nm))\n",
    "print(\" Гипотеза H0_2_3 принимается\" if is_h0_2_3_true else \"Гипотеза H0_2_3 отклоняется\")\n",
    "print(\" Двустороннее p-value: {}, левостороннее: {}, правостороннее: {}\".format( two_sided_p_value(f_nm_test_dist, criterion_value_f_nm), left_p_value(f_nm_test_dist, criterion_value_f_nm), right_p_value(f_nm_test_dist, criterion_value_f_nm) ))\n",
    "\n"
   ]
  },
  {
   "cell_type": "markdown",
   "metadata": {},
   "source": [
    "## 4. Выборочные характеристики для Z и P-value\n",
    "\n",
    "**Необходимо**: Вычислить для выборки мощностью $N$ выборочные значения для случайных величин p-value и значения статистики критерия. Гипотеза $H_0$ задаётся вариантом лабораторной работы.\n",
    "\n",
    "$\\sigma = 2$ (m - не известно)"
   ]
  },
  {
   "cell_type": "code",
   "execution_count": 7,
   "metadata": {},
   "outputs": [
    {
     "name": "stdout",
     "output_type": "stream",
     "text": [
      "Критерий:\n",
      "среднее = 98.47573344617538, s^2 = 193.37772967891948, s = 13.906032132816302\n",
      "P-value:\n",
      "среднее = 0.5027449697813566, s^2 = 0.07838160734779048, s = 0.27996715405166817\n"
     ]
    }
   ],
   "source": [
    "N = 500\n",
    "\n",
    "criteria = []\n",
    "p_values = []\n",
    "\n",
    "criterion_dist = stats.chi2(n1 - 1)\n",
    "\n",
    "for i in range(0, N):\n",
    "    sample = gen_x1()\n",
    "    \n",
    "    criterion_value = criterion_chi2_no_m(sample, 2)\n",
    "    criteria.append(criterion_value)\n",
    "    \n",
    "    p_value_left = criterion_dist.cdf(criterion_value)\n",
    "    p_value_right = 1 - p_value_left\n",
    "    p_value_two_sided = 2 * min(p_value_left, p_value_right)\n",
    "    p_values.append(p_value_two_sided)\n",
    "\n",
    "print(\"Критерий:\")\n",
    "print(\"среднее = {}, s^2 = {}, s = {}\".format(np.mean(criteria), np.var(criteria), np.std(criteria)))\n",
    "\n",
    "print(\"P-value:\")\n",
    "print(\"среднее = {}, s^2 = {}, s = {}\".format(np.mean(p_values), np.var(p_values), np.std(p_values)))\n",
    "\n"
   ]
  },
  {
   "cell_type": "markdown",
   "metadata": {},
   "source": [
    "### Графики\n",
    "\n",
    "**Графики** теоретических распределений и гистограммы эспериментальных значений для статистики критерия и p-value:"
   ]
  },
  {
   "cell_type": "code",
   "execution_count": 8,
   "metadata": {},
   "outputs": [
    {
     "name": "stderr",
     "output_type": "stream",
     "text": [
      "/Users/dedefer/anaconda3/lib/python3.7/site-packages/matplotlib/axes/_axes.py:6571: UserWarning: The 'normed' kwarg is deprecated, and has been replaced by the 'density' kwarg.\n",
      "  warnings.warn(\"The 'normed' kwarg is deprecated, and has been \"\n"
     ]
    },
    {
     "data": {
      "image/png": "[encoded data removed]",
      "text/plain": [
       "<Figure size 432x288 with 1 Axes>"
      ]
     },
     "metadata": {
      "needs_background": "light"
     },
     "output_type": "display_data"
    }
   ],
   "source": [
    "fig, ax = plt.subplots()\n",
    "\n",
    "# histogram\n",
    "n, bins, patches = ax.hist(criteria, 20, normed=True)\n",
    "\n",
    "# plot\n",
    "x = np.linspace(criterion_dist.ppf(0.05), criterion_dist.ppf(0.95), 100)\n",
    "ax.plot(x, criterion_dist.pdf(x), 'r-', lw=5, alpha=0.6, label='Theoretical')\n",
    "\n",
    "ax.set_title(\"Статистика критерия\")\n",
    "ax.set_ylabel(\"Плотность вероятности\")\n",
    "\n",
    "fig.tight_layout()\n",
    "plt.show()"
   ]
  },
  {
   "cell_type": "code",
   "execution_count": 9,
   "metadata": {},
   "outputs": [
    {
     "name": "stderr",
     "output_type": "stream",
     "text": [
      "/Users/dedefer/anaconda3/lib/python3.7/site-packages/matplotlib/axes/_axes.py:6571: UserWarning: The 'normed' kwarg is deprecated, and has been replaced by the 'density' kwarg.\n",
      "  warnings.warn(\"The 'normed' kwarg is deprecated, and has been \"\n"
     ]
    },
    {
     "data": {
      "image/png": "[encoded data removed]",
      "text/plain": [
       "<Figure size 432x288 with 1 Axes>"
      ]
     },
     "metadata": {
      "needs_background": "light"
     },
     "output_type": "display_data"
    }
   ],
   "source": [
    "fig, ax = plt.subplots()\n",
    "\n",
    "# histogram\n",
    "n, bins, patches = ax.hist(p_values, 20, normed=True)\n",
    "\n",
    "# plot\n",
    "x = np.linspace(stats.uniform.ppf(0.01), stats.uniform.ppf(0.99), 100)\n",
    "ax.plot(x, stats.uniform.pdf(x), 'r-', lw=5, alpha=0.6, label='Theoretical')\n",
    "\n",
    "ax.set_title(\"P-values\")\n",
    "ax.set_ylabel(\"Плотность вероятности\")\n",
    "\n",
    "fig.tight_layout()\n",
    "plt.show()"
   ]
  },
  {
   "cell_type": "code",
   "execution_count": null,
   "metadata": {},
   "outputs": [],
   "source": []
  }
 ],
 "metadata": {
  "kernelspec": {
   "display_name": "Python 3",
   "language": "python",
   "name": "python3"
  },
  "language_info": {
   "codemirror_mode": {
    "name": "ipython",
    "version": 3
   },
   "file_extension": ".py",
   "mimetype": "text/x-python",
   "name": "python",
   "nbconvert_exporter": "python",
   "pygments_lexer": "ipython3",
   "version": "3.7.0"
  }
 },
 "nbformat": 4,
 "nbformat_minor": 2
}

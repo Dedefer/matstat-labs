{
 "cells": [
  {
   "cell_type": "markdown",
   "metadata": {},
   "source": [
    "# Лабораторная работа №4. Корреляционный анализ\n",
    "\n",
    "> Вариант № 7\n",
    "\n",
    "**Распределения**:\n",
    "\n",
    "$X \\sim N(-1, 2)$\n",
    "\n",
    "$Y \\sim R(-2, 0)$\n",
    "\n",
    "Объём выборок $n$ &mdash; 100\n"
   ]
  },
  {
   "cell_type": "code",
   "execution_count": 1,
   "metadata": {},
   "outputs": [
    {
     "data": {
      "text/html": [
       "<style>table.htable td,\n",
       "table.htable th {\n",
       "    border: 1px solid black;\n",
       "}\n",
       "\n",
       "table.htable th,\n",
       "table.htable td.head {\n",
       "    text-align: center;\n",
       "    font-weight: bold;\n",
       "}\n",
       "\n",
       "table.htable tr {\n",
       "    background-color: white !important;\n",
       "}\n",
       "table.htable tr:hover {\n",
       "    background-color: #39f2 !important;\n",
       "}\n",
       "\n",
       ".bold { font-weight: bold !important; }\n",
       ".red { color: red !important; }\n",
       ".italic { font-decoration: italic !important; }\n",
       "\n",
       ".text-left { text-align: left !important; }\n",
       ".text-center { text-align: center !important; }\n",
       ".text-right { text-align: right !important; }\n",
       "</style>"
      ],
      "text/plain": [
       "<IPython.core.display.HTML object>"
      ]
     },
     "metadata": {},
     "output_type": "display_data"
    }
   ],
   "source": [
    "%matplotlib inline\n",
    "import numpy as np\n",
    "from scipy import stats\n",
    "import matplotlib.pyplot as plt\n",
    "from statsmodels.distributions.empirical_distribution import ECDF\n",
    "\n",
    "# Немного магии для того, чтобы рисунки стали больше\n",
    "import pylab\n",
    "pylab.rcParams['figure.figsize'] = (24.0, 16.0)\n",
    "plt.rcParams.update({'font.size': 22})\n",
    "\n",
    "# Вспомогательные классы и функции, определённые тут же (см. репозиторий)\n",
    "# https://github.com/BobNobrain/matstat-labs/tree/master/s\n",
    "from s import Sample, HTable\n",
    "from s.utils import table, printf, load_styles\n",
    "load_styles()"
   ]
  },
  {
   "cell_type": "markdown",
   "metadata": {},
   "source": [
    "## 1. Исходные данные"
   ]
  },
  {
   "cell_type": "code",
   "execution_count": 2,
   "metadata": {},
   "outputs": [
    {
     "name": "stdout",
     "output_type": "stream",
     "text": [
      "Характеристики наблюдаемых случайных величин:\n"
     ]
    },
    {
     "data": {
      "text/html": [
       "<table width=\"100%\" class=\"htable\">\n",
       "    <thead><tr><th>СВ</th><th>Распределение</th><th>Параметры</th><th>$m_i$</th><th>$\\sigma_i^2$</th><th>$n_i$</th></tr></thead>\n",
       "    <tbody><tr><td>X</td><td>N</td><td>$m=-1, \\sigma,2=2$</td><td>-1.0</td><td>2.0000000000000004</td><td>100</td></tr><tr><td>Y</td><td>R</td><td>$a=-2, b=0$</td><td>-1.0</td><td>0.3333333333333333</td><td>100</td></tr></tbody>\n",
       "    </table>"
      ],
      "text/plain": [
       "<IPython.core.display.HTML object>"
      ]
     },
     "metadata": {},
     "output_type": "display_data"
    }
   ],
   "source": [
    "X = stats.norm(-1, 2**0.5)\n",
    "Y = stats.uniform(-2, 2)\n",
    "n = 100\n",
    "\n",
    "print('Характеристики наблюдаемых случайных величин:')\n",
    "table(\n",
    "    ['СВ', 'Распределение', 'Параметры', '$m_i$', '$\\\\sigma_i^2$', '$n_i$'],\n",
    "    [\n",
    "        ['X', 'N', '$m=-1, \\\\sigma,2=2$', X.mean(), X.var(), n],\n",
    "        ['Y', 'R', '$a=-2, b=0$', Y.mean(), Y.var(), n]\n",
    "    ]\n",
    ")"
   ]
  },
  {
   "cell_type": "code",
   "execution_count": 3,
   "metadata": {},
   "outputs": [
    {
     "name": "stdout",
     "output_type": "stream",
     "text": [
      "Выборочные характеристики:\n"
     ]
    },
    {
     "data": {
      "text/html": [
       "<table width=\"100%\" class=\"htable\">\n",
       "    <thead><tr><th>СВ</th><th>Среднее $\\overline{x_i}$</th><th>$s^2_i$</th><th>$s_i$</th></tr></thead>\n",
       "    <tbody><tr><td>x</td><td>-0.8354</td><td>1.8634</td><td>1.3651</td></tr><tr><td>y</td><td>-1.0524</td><td>0.3509</td><td>0.5923</td></tr></tbody>\n",
       "    </table>"
      ],
      "text/plain": [
       "<IPython.core.display.HTML object>"
      ]
     },
     "metadata": {},
     "output_type": "display_data"
    }
   ],
   "source": [
    "x = Sample.from_distribution(\"x\", X, count=n)\n",
    "y = Sample.from_distribution(\"y\", Y, count=n)\n",
    "\n",
    "print('Выборочные характеристики:')\n",
    "table(\n",
    "    ['СВ', 'Среднее $\\\\overline{x_i}$', '$s^2_i$', '$s_i$'],\n",
    "    [\n",
    "        [\n",
    "            s._name,\n",
    "            round(s.mean(), 4),\n",
    "            round(s.s() ** 2, 4),\n",
    "            round(s.s(), 4)\n",
    "        ] for s in [x, y]\n",
    "    ]\n",
    ")"
   ]
  },
  {
   "cell_type": "code",
   "execution_count": 4,
   "metadata": {},
   "outputs": [],
   "source": [
    "def pierson(x, y):\n",
    "    r, _ = stats.pearsonr(x, y)\n",
    "    return r\n",
    "\n",
    "def spirmen(x, y):\n",
    "    rho, _ = stats.spearmanr(x, y)\n",
    "    return rho\n",
    "\n",
    "def kendell(x, y):\n",
    "    tau, _ = stats.kendalltau(x, y)\n",
    "    return tau"
   ]
  },
  {
   "cell_type": "code",
   "execution_count": 5,
   "metadata": {},
   "outputs": [
    {
     "name": "stdout",
     "output_type": "stream",
     "text": [
      "Выборочные характеристики:\n"
     ]
    },
    {
     "data": {
      "text/html": [
       "<table width=\"100%\" class=\"htable\"><thead><tr><th>СВ</th><th>Среднее $\\overline{x_i}$</th><th>Оценка дисперсии $s^2_i$</th><th>КК по Пирсону $r_{xy}$</th><th>КК по Спирмену $\\rho_{xy}$</th><th>КК по Кендаллу $\\tau_{xy}$</th></tr></thead><tbody><tr><td class=\"head\">X</td><td>-0.8354</td><td>1.8634</td><td rowspan=\"2\" class=\"text-center\">-0.1445044702168935</td><td rowspan=\"2\" class=\"text-center\">-0.12454845484548453</td><td rowspan=\"2\" class=\"text-center\">-0.08686868686868689</td></tr><tr><td class=\"head\">Y</td><td>-1.0524</td><td>0.3509</td></tr></tbody></table>"
      ],
      "text/plain": [
       "<IPython.core.display.HTML object>"
      ]
     },
     "metadata": {},
     "output_type": "display_data"
    }
   ],
   "source": [
    "t = HTable(rows=2, cols=6, head_rows=1)\n",
    "t.fill(row=0, head=True, content=[\n",
    "    'СВ',\n",
    "    'Среднее $\\\\overline{x_i}$',\n",
    "    'Оценка дисперсии $s^2_i$',\n",
    "    'КК по Пирсону $r_{xy}$',\n",
    "    'КК по Спирмену $\\\\rho_{xy}$',\n",
    "    'КК по Кендаллу $\\\\tau_{xy}$'\n",
    "])\n",
    "t.fill(col=0, content=['X', 'Y'])\n",
    "t.map_col(0, lambda c: c.add_class('head'))\n",
    "t.fill(\n",
    "    col = 1, \n",
    "    content = [ round(sample.mean(), 4) for sample in [x, y] ]\n",
    ")\n",
    "t.fill(\n",
    "    col = 2,\n",
    "    content = [ round(sample.s() ** 2, 4) for sample in [x, y] ]\n",
    ")\n",
    "\n",
    "t.map_row(0, lambda c: c.span(rowspan=2).add_class('text-center'), limits=(3, 6))\n",
    "\n",
    "t.fill(row=0, content=[\n",
    "    None,\n",
    "    None,\n",
    "    None,\n",
    "    pierson(x.data(), y.data()),\n",
    "    spirmen(x.data(), y.data()),\n",
    "    kendell(x.data(), y.data())\n",
    "])\n",
    "\n",
    "print('Выборочные характеристики:')\n",
    "t.show()\n"
   ]
  },
  {
   "cell_type": "code",
   "execution_count": 6,
   "metadata": {},
   "outputs": [
    {
     "name": "stdout",
     "output_type": "stream",
     "text": [
      "Проверка значимости коэффициентов корреляции:\n"
     ]
    },
    {
     "data": {
      "text/html": [
       "<table width=\"100%\" class=\"htable\">\n",
       "    <thead><tr><th>Статистическая гипотеза $H_0$</th><th>p-value</th><th>Статистическое решение при $\\alpha=0.05$</th><th>Ошибка статистического решения</th></tr></thead>\n",
       "    <tbody><tr><td>$H_0: r_{XY} = 0$</td><td>0.15145316642839</td><td>$H_0$</td><td>-</td></tr><tr><td>$H_0: \\rho_{XY} = 0$</td><td>0.21696469369766563</td><td>$H_0$</td><td>-</td></tr><tr><td>$H_0: \\tau_{XY} = 0$</td><td>0.20033763743143973</td><td>$H_0$</td><td>-</td></tr></tbody>\n",
       "    </table>"
      ],
      "text/plain": [
       "<IPython.core.display.HTML object>"
      ]
     },
     "metadata": {},
     "output_type": "display_data"
    }
   ],
   "source": [
    "print('Проверка значимости коэффициентов корреляции:')\n",
    "\n",
    "alpha = 0.05\n",
    "\n",
    "def pearson_0_test(text, x, y, expected):\n",
    "    r, p_val = stats.pearsonr(x.data(),y.data())\n",
    "    z = r * np.sqrt(n-2)/np.sqrt(1-r**2)\n",
    "    result = abs(z) < stats.t.ppf(1-alpha/2, n - 2)\n",
    "    decision = '$H_0$' if result else '$H_1$'\n",
    "    return text, p_val, decision, \"-\" if result == expected else (\"Ошибка первого рода\" if expected else \"Ошибка второго рода\")\n",
    "\n",
    "def spearman_0_test(text, x, y, expected):\n",
    "    rho, p_val = stats.spearmanr(x.data(), y.data())\n",
    "    z = rho / np.sqrt(1 - rho) * np.sqrt(n - 2)\n",
    "    result = abs(z) < stats.t.ppf(1-alpha/2, n - 2)\n",
    "    decision = '$H_0$' if result else '$H_1$'\n",
    "    return text, p_val, decision, \"-\" if result == expected else (\"Ошибка первого рода\" if expected else \"Ошибка второго рода\")\n",
    "\n",
    "def kendall_0_test(text, x, y, expected):\n",
    "    tau, p_val = stats.kendalltau(x.data(), y.data())\n",
    "    z = tau * np.sqrt(9*n*(n+1)/(2*(2*n+5)))\n",
    "    result = abs(z) < stats.norm.ppf(1-alpha/2, 0, 1)\n",
    "    decision = '$H_0$' if result else '$H_1$'\n",
    "    return text, p_val, decision, \"-\" if result == expected else (\"Ошибка первого рода\" if expected else \"Ошибка второго рода\")\n",
    "\n",
    "table(\n",
    "    [\n",
    "        'Статистическая гипотеза $H_0$',\n",
    "        'p-value',\n",
    "        'Статистическое решение при $\\\\alpha={}$'.format(alpha),\n",
    "        'Ошибка статистического решения'\n",
    "    ],\n",
    "    [\n",
    "        pearson_0_test('$H_0: r_{XY} = 0$', x, y, True),\n",
    "        spearman_0_test('$H_0: \\\\rho_{XY} = 0$', x, y, True),\n",
    "        kendall_0_test('$H_0: \\\\tau_{XY} = 0$', x, y, True),\n",
    "    ]\n",
    ")"
   ]
  },
  {
   "cell_type": "markdown",
   "metadata": {},
   "source": [
    "## 2. Визуальное представление двумерной выборки"
   ]
  },
  {
   "cell_type": "code",
   "execution_count": 7,
   "metadata": {},
   "outputs": [
    {
     "data": {
      "image/png": "[encoded data removed]",
      "text/plain": [
       "<Figure size 432x288 with 1 Axes>"
      ]
     },
     "metadata": {
      "needs_background": "light"
     },
     "output_type": "display_data"
    }
   ],
   "source": [
    "fig, ax = plt.subplots()\n",
    "\n",
    "ax.set_title('Диаграмма рассеяния случайных величин X и Y:')\n",
    "ax.set_xlabel('X')\n",
    "ax.set_ylabel('Y');\n",
    "\n",
    "ax.scatter(x.data(), y.data(), s=5);\n"
   ]
  },
  {
   "cell_type": "markdown",
   "metadata": {},
   "source": [
    "## 3. Проверка независимости методом таблиц сопряженности\n",
    "\n",
    "Статистическая гипотеза:\n",
    "\n",
    "$$ H_0: F_Y(y | X \\in \\Delta_1) = ... = F_Y(y | X \\in \\Delta_k) = F_Y(y) $$"
   ]
  },
  {
   "cell_type": "code",
   "execution_count": 8,
   "metadata": {},
   "outputs": [
    {
     "name": "stdout",
     "output_type": "stream",
     "text": [
      "Эмпирическая/теоретическая таблицы сопряженности:\n"
     ]
    },
    {
     "data": {
      "text/html": [
       "<table width=\"100%\" class=\"htable\">\n",
       "    <thead><tr><th>X \\ Y</th><th>$[-2.0;-1.6)$</th><th>$[-1.6;-1.2)$</th><th>$[-1.2;-0.8)$</th><th>$[-0.8;-0.4)$</th><th>$[-0.4;0.0)$</th></tr></thead>\n",
       "    <tbody><tr><td>$\\Delta_1 = [-5.0;-3.6)$</td><td>(0, 0.75)</td><td>(0, 0.48)</td><td>(1, 0.69)</td><td>(2, 0.54)</td><td>(0, 0.54)</td></tr><tr><td>$\\Delta_2 = [-3.6;-2.2)$</td><td>(3, 3.0)</td><td>(1, 1.92)</td><td>(3, 2.76)</td><td>(2, 2.16)</td><td>(3, 2.16)</td></tr><tr><td>$\\Delta_3 = [-2.2;-0.8)$</td><td>(7, 8.5)</td><td>(7, 5.44)</td><td>(11, 7.82)</td><td>(5, 6.12)</td><td>(4, 6.12)</td></tr><tr><td>$\\Delta_4 = [-0.8;0.6)$</td><td>(8, 9.5)</td><td>(7, 6.08)</td><td>(5, 8.74)</td><td>(8, 6.84)</td><td>(10, 6.84)</td></tr><tr><td>$\\Delta_5 = [0.6;2.0)$</td><td>(7, 3.25)</td><td>(1, 2.08)</td><td>(3, 2.99)</td><td>(1, 2.34)</td><td>(1, 2.34)</td></tr></tbody>\n",
       "    </table>"
      ],
      "text/plain": [
       "<IPython.core.display.HTML object>"
      ]
     },
     "metadata": {},
     "output_type": "display_data"
    }
   ],
   "source": [
    "import math\n",
    "from functools import *\n",
    "x_delta = (math.ceil(x.max()) - math.floor(x.min()))/5\n",
    "x_start = math.floor(x.min())\n",
    "y_delta = (math.ceil(y.max()) - math.floor(y.min()))/5\n",
    "y_start = math.floor(y.min())\n",
    "\n",
    "zipped = list(zip(x.data(), y.data()))\n",
    "matrix = []\n",
    "\n",
    "def experimental_theoretical_cell(zipped, xbegin, xend, ybegin, yend):\n",
    "    experimental = len(list(filter(\n",
    "        lambda e: (\n",
    "            xbegin <= e[0] < xend and \n",
    "            ybegin <= e[1] < yend\n",
    "        ),\n",
    "        zipped\n",
    "    )))\n",
    "    filtredx = len(list(filter(\n",
    "        lambda e: xbegin <= e[0] < xend,\n",
    "        zipped\n",
    "    )))\n",
    "    filtredy = len(list(filter(\n",
    "        lambda e: ybegin <= e[1] < yend,\n",
    "        zipped\n",
    "    )))\n",
    "    theoretical = filtredx*filtredy/len(zipped)\n",
    "    return (experimental, theoretical)\n",
    "                     \n",
    "def table_row(num):\n",
    "    begin = x_start + (num - 1) * x_delta\n",
    "    end = x_start + num * x_delta\n",
    "    res = ['$\\\\Delta_{} = [{:.01f};{:.01f})$'.format(num, begin, end)]\n",
    "    for y_num in range(1, 6):\n",
    "        y_begin = y_start + (y_num - 1) * y_delta\n",
    "        y_end = y_start + y_num * y_delta\n",
    "        res.append(experimental_theoretical_cell(zipped, begin, end, y_begin, y_end))\n",
    "    matrix.append(res[1:])\n",
    "    return res[:]\n",
    "\n",
    "def table_column_name(num):\n",
    "    return '$[{:.01f};{:.01f})$'.format(y_start + (num - 1) * y_delta, y_start + num * y_delta)\n",
    "        \n",
    "print('Эмпирическая/теоретическая таблицы сопряженности:')\n",
    "table(\n",
    "    [\n",
    "        'X \\\\ Y',\n",
    "        table_column_name(1),\n",
    "        table_column_name(2),\n",
    "        table_column_name(3),\n",
    "        table_column_name(4),\n",
    "        table_column_name(5),\n",
    "    ],\n",
    "    [ table_row(row) for row in range(1,6) ]\n",
    ")"
   ]
  },
  {
   "cell_type": "code",
   "execution_count": 9,
   "metadata": {},
   "outputs": [
    {
     "data": {
      "text/html": [
       "<table width=\"100%\" class=\"htable\">\n",
       "    <thead><tr><th>Выборочное значение статистики критерия</th><th>p-value</th><th>Статистическое решение при $\\alpha=0.05$</th><th>Ошибка статистического решения</th></tr></thead>\n",
       "    <tbody><tr><td>19.656954520840976</td><td>0.2360701512135841</td><td>H0</td><td>Ошибка второго рода</td></tr></tbody>\n",
       "    </table>"
      ],
      "text/plain": [
       "<IPython.core.display.HTML object>"
      ]
     },
     "metadata": {},
     "output_type": "display_data"
    }
   ],
   "source": [
    "alpha = 0.05\n",
    "z = 0;\n",
    "for i in range(5):\n",
    "    for j in range(5):\n",
    "         z += (matrix[i][j][0] - matrix[i][j][1])**2/matrix[i][j][1]\n",
    "crit = stats.chi2.ppf(1-alpha, (5 - 1)*(5 - 1))\n",
    "result = z < crit\n",
    "decision = 'H0' if result else 'H1'\n",
    "p_val = 1 - stats.chi2.cdf(z, (5-1)*(5-1))\n",
    "expected = False\n",
    "error = \"-\" if result == expected else (\"Ошибка первого рода\" if expected else \"Ошибка второго рода\")\n",
    "table(\n",
    "    [\n",
    "        'Выборочное значение статистики критерия',\n",
    "        'p-value',\n",
    "        'Статистическое решение при $\\\\alpha={}$'.format(alpha),\n",
    "        'Ошибка статистического решения'\n",
    "    ],\n",
    "    [\n",
    "        [z, p_val, decision, error]\n",
    "    ]\n",
    ")"
   ]
  },
  {
   "cell_type": "markdown",
   "metadata": {},
   "source": [
    "## 4. Исследование корреляционной связи\n",
    "\n",
    "Случайная величина $ U = \\lambda X + (1 - \\lambda) Y, \\lambda \\in [0; 1]$\n",
    "\n",
    "Случайная величина $ V = \\lambda X^3 + (1 - \\lambda) Y^3, \\lambda \\in [0; 1]$"
   ]
  },
  {
   "cell_type": "code",
   "execution_count": 10,
   "metadata": {},
   "outputs": [
    {
     "data": {
      "image/png": "[encoded data removed]",
      "text/plain": [
       "<Figure size 432x288 with 1 Axes>"
      ]
     },
     "metadata": {
      "needs_background": "light"
     },
     "output_type": "display_data"
    }
   ],
   "source": [
    "lambda_values = np.linspace(0, 1, 100)\n",
    "\n",
    "def u(l, x, y):\n",
    "    return l * x.data() + (1 - l) * y.data()\n",
    "\n",
    "fig, ax = plt.subplots()\n",
    "ax.set_title('Графики зависимостей $КК_{XU}$ от $\\\\lambda$')\n",
    "\n",
    "pierson_values = [\n",
    "    pierson(x.data(), u(l, x, y)) for l in lambda_values\n",
    "]\n",
    "ax.plot(lambda_values, pierson_values, label='$r_{XU}$')\n",
    "\n",
    "spirmen_values = [\n",
    "    spirmen(x.data(), u(l, x, y)) for l in lambda_values\n",
    "]\n",
    "ax.plot(lambda_values, spirmen_values, label='$\\\\rho_{XU}$')\n",
    "\n",
    "kendell_values = [\n",
    "    kendell(x.data(), u(l, x, y)) for l in lambda_values\n",
    "]\n",
    "ax.plot(lambda_values, kendell_values, label='$\\tau_{XU}$')\n",
    "\n",
    "ax.legend();"
   ]
  },
  {
   "cell_type": "code",
   "execution_count": 11,
   "metadata": {},
   "outputs": [
    {
     "data": {
      "image/png": "[encoded data removed]",
      "text/plain": [
       "<Figure size 432x288 with 1 Axes>"
      ]
     },
     "metadata": {
      "needs_background": "light"
     },
     "output_type": "display_data"
    }
   ],
   "source": [
    "fig, ax = plt.subplots()\n",
    "ax.set_title('Графики зависимостей $КК_{XV}$ от $\\\\lambda$');\n",
    "\n",
    "lambda_values = np.linspace(0, 1, 100)\n",
    "\n",
    "def v(l, x, y):\n",
    "    return l * x.data()**3 + (1 - l) * y.data()**3\n",
    "\n",
    "pierson_values = [\n",
    "    pierson(x.data(), v(l, x, y)) for l in lambda_values\n",
    "]\n",
    "ax.plot(lambda_values, pierson_values, label='$r_{XV}$')\n",
    "\n",
    "spirmen_values = [\n",
    "    spirmen(x.data(), v(l, x, y)) for l in lambda_values\n",
    "]\n",
    "ax.plot(lambda_values, spirmen_values, label='$\\\\rho_{XV}$')\n",
    "\n",
    "kendell_values = [\n",
    "    kendell(x.data(), v(l, x, y)) for l in lambda_values\n",
    "]\n",
    "ax.plot(lambda_values, kendell_values, label='$\\tau_{XV}$')\n",
    "\n",
    "ax.legend();"
   ]
  },
  {
   "cell_type": "markdown",
   "metadata": {},
   "source": [
    "### Выводы:\n",
    "\n",
    "1. При увелечении λ увеличивается влияние случайной величины X на величину U и уменьшается влияние Y , поэтому, как видно на графиках коэффициенты корреляции растут.\n",
    "2. При увелечении λ увеличивается влияние случайной величины X на величину V и уменьшается влияние Y , поэтому, как видно на графиках коэффициенты корреляции растут."
   ]
  },
  {
   "cell_type": "code",
   "execution_count": 12,
   "metadata": {},
   "outputs": [
    {
     "data": {
      "text/plain": [
       "<matplotlib.collections.PathCollection at 0x1a1ae4a898>"
      ]
     },
     "execution_count": 12,
     "metadata": {},
     "output_type": "execute_result"
    },
    {
     "data": {
      "image/png": "[encoded data removed]",
      "text/plain": [
       "<Figure size 432x288 with 4 Axes>"
      ]
     },
     "metadata": {
      "needs_background": "light"
     },
     "output_type": "display_data"
    }
   ],
   "source": [
    "fig, ax = plt.subplots(2, 2)\n",
    "\n",
    "v0 = Sample.from_data('v0', v(0, x, y))\n",
    "v1 = Sample.from_data('v1', v(1, x, y))\n",
    "\n",
    "ax[0][0].set_title('$X, V$ при $\\\\lambda = 0$')\n",
    "ax[0][0].set_xlabel('X')\n",
    "ax[0][0].set_ylabel('V')\n",
    "ax[0][0].scatter(x.data(), v0.data())\n",
    "\n",
    "ax[0][1].set_title('Ранги $X, V$ при $\\\\lambda = 0$')\n",
    "ax[0][1].set_xlabel('Ранги X')\n",
    "ax[0][1].set_ylabel('Ранги V')\n",
    "ax[0][1].scatter(x.ranks(), v0.ranks())\n",
    "\n",
    "ax[1][0].set_title('$X, V$ при $\\\\lambda = 1$')\n",
    "ax[1][0].set_xlabel('X')\n",
    "ax[1][0].set_ylabel('V')\n",
    "ax[1][0].scatter(x.data(), v1.data())\n",
    "\n",
    "ax[1][1].set_title('Ранги $X, V$ при $\\\\lambda = 1$')\n",
    "ax[1][1].set_xlabel('Ранги X')\n",
    "ax[1][1].set_ylabel('Ранги V');\n",
    "ax[1][1].scatter(x.ranks(), v1.ranks())\n",
    "\n"
   ]
  },
  {
   "cell_type": "markdown",
   "metadata": {},
   "source": [
    "### Выводы:\n",
    "\n",
    "1. При λ = 0 мы видим, отстутсвие какой либо зависимости V(X)\n",
    "2. При λ = 1 можно сделать вывод, что V зависит от X функционально."
   ]
  }
 ],
 "metadata": {
  "kernelspec": {
   "display_name": "Python 3",
   "language": "python",
   "name": "python3"
  },
  "language_info": {
   "codemirror_mode": {
    "name": "ipython",
    "version": 3
   },
   "file_extension": ".py",
   "mimetype": "text/x-python",
   "name": "python",
   "nbconvert_exporter": "python",
   "pygments_lexer": "ipython3",
   "version": "3.7.0"
  }
 },
 "nbformat": 4,
 "nbformat_minor": 2
}

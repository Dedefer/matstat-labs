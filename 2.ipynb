{
 "cells": [
  {
   "cell_type": "markdown",
   "metadata": {},
   "source": [
    "# Лабораторная работа №2. Критерии согласия и однородности выборок\n",
    "\n",
    "> Вариант № 5\n",
    "\n",
    "**Распределения**:\n",
    "\n",
    "X ~ N(5,2) (объём выборки $n_x$ &mdash; 100)\n",
    "\n",
    "Y ~ N(5,2) (объём выборки $n_y$ &mdash; 100)"
   ]
  },
  {
   "cell_type": "code",
   "execution_count": 1,
   "metadata": {},
   "outputs": [],
   "source": [
    "%matplotlib inline\n",
    "import numpy as np\n",
    "from scipy import stats\n",
    "import matplotlib.pyplot as plt\n",
    "from statsmodels.distributions.empirical_distribution import ECDF\n",
    "\n",
    "# Немного магии для того, чтобы рисунки стали больше\n",
    "import pylab\n",
    "pylab.rcParams['figure.figsize'] = (24.0, 16.0)\n",
    "plt.rcParams.update({'font.size': 22})\n",
    "\n",
    "# Вспомогательные классы и функции, определённые тут же (см. репозиторий)\n",
    "# https://github.com/BobNobrain/matstat-labs/tree/master/s\n",
    "from s import Sample\n",
    "from s.utils import table"
   ]
  },
  {
   "cell_type": "markdown",
   "metadata": {},
   "source": [
    "## Задание переменных и генерация выборок"
   ]
  },
  {
   "cell_type": "code",
   "execution_count": 2,
   "metadata": {},
   "outputs": [
    {
     "name": "stdout",
     "output_type": "stream",
     "text": [
      "Sample x: m=5.038299013912718, s=1.3797375108347847, s^2=1.9036755988045675\n",
      "Sample y: m=5.377996613324537, s=1.240234527898899, s^2=1.538181684192605\n"
     ]
    },
    {
     "data": {
      "text/html": [
       "<table width=\"100%\" class=\"htable\">\n",
       "    <thead><tr><th>Распределение</th><th>Параметры</th><th>$m$</th><th>$\\sigma^2$</th></tr></thead>\n",
       "    <tbody><tr><td>N</td><td>m=5, $\\sigma^2$=2</td><td>5.0</td><td>2.0000000000000004</td></tr><tr><td>N</td><td>m=5, $\\sigma^2$=2</td><td>5.0</td><td>2.0000000000000004</td></tr></tbody>\n",
       "    </table>"
      ],
      "text/plain": [
       "<IPython.core.display.HTML object>"
      ]
     },
     "metadata": {},
     "output_type": "display_data"
    }
   ],
   "source": [
    "nx = 100\n",
    "ny = 100\n",
    "\n",
    "X = stats.norm(5, 2 ** 0.5)\n",
    "Y = stats.norm(5, 2 ** 0.5)\n",
    "\n",
    "# Пример использования класса Sample для получения выборки из заданного распределения\n",
    "x = Sample.from_distribution(\"x\", X, count=nx)\n",
    "y = Sample.from_distribution(\"y\", Y, count=ny)\n",
    "# Альтернатива: X.rvs(size=nx) - массив случайных чисел из заданного распределения\n",
    "\n",
    "# Вспомогательный метод класса s.Sample\n",
    "x.describe()\n",
    "y.describe()\n",
    "\n",
    "# Отрисовка таблицы: массив заголовочных ячеек, массив строк таблицы\n",
    "table(\n",
    "    ['Распределение', 'Параметры', '$m$', '$\\\\sigma^2$'],\n",
    "    [\n",
    "        ['N', 'm=5, $\\\\sigma^2$=2', X.mean(), X.var()],\n",
    "        ['N', 'm=5, $\\\\sigma^2$=2', Y.mean(), Y.var()],\n",
    "    ]\n",
    ")"
   ]
  },
  {
   "cell_type": "markdown",
   "metadata": {},
   "source": [
    "## 1. Исходные данные"
   ]
  },
  {
   "cell_type": "code",
   "execution_count": 3,
   "metadata": {},
   "outputs": [
    {
     "name": "stdout",
     "output_type": "stream",
     "text": [
      "Характеристики СВ X:\n"
     ]
    },
    {
     "data": {
      "text/html": [
       "<table width=\"100%\" class=\"htable\">\n",
       "    <thead><tr><th>Распределение</th><th>Параметры</th><th>Мат. ожидание $m$</th><th>Дисперсия $\\sigma^2$</th></tr></thead>\n",
       "    <tbody><tr><td>N</td><td>(5, 2)</td><td>5.0</td><td>2.0000000000000004</td></tr></tbody>\n",
       "    </table>"
      ],
      "text/plain": [
       "<IPython.core.display.HTML object>"
      ]
     },
     "metadata": {},
     "output_type": "display_data"
    },
    {
     "name": "stdout",
     "output_type": "stream",
     "text": [
      "Характеристики выборки x\n"
     ]
    },
    {
     "data": {
      "text/html": [
       "<table width=\"100%\" class=\"htable\">\n",
       "    <thead><tr><th>Среднее, $\\overline{x}$</th><th>Оценка дисперсии, $s^2$</th><th>Оценка с.к.о., $s$</th></tr></thead>\n",
       "    <tbody><tr><td>5.0383</td><td>1.8846</td><td>1.3797</td></tr></tbody>\n",
       "    </table>"
      ],
      "text/plain": [
       "<IPython.core.display.HTML object>"
      ]
     },
     "metadata": {},
     "output_type": "display_data"
    }
   ],
   "source": [
    "print('Характеристики СВ X:')\n",
    "\n",
    "table(\n",
    "    ['Распределение', 'Параметры', 'Мат. ожидание $m$', 'Дисперсия $\\\\sigma^2$'],\n",
    "    [[ 'N', '(5, 2)', X.mean(), X.var()]]\n",
    ")\n",
    "\n",
    "print('Характеристики выборки x')\n",
    "table(\n",
    "    ['Среднее, $\\\\overline{x}$', 'Оценка дисперсии, $s^2$', 'Оценка с.к.о., $s$'],\n",
    "    [[round(x.mean(), 4), round(x.var(), 4), round(x.s(),4)]]\n",
    ")"
   ]
  },
  {
   "cell_type": "markdown",
   "metadata": {},
   "source": [
    "## 2. Визуальное представление выборки\n",
    "\n",
    "Гистограммы частот для $n_{bins} \\in \\{5, 10, 15, n_{my}\\}$ (выберите $n_{my}$ сами):"
   ]
  },
  {
   "cell_type": "code",
   "execution_count": 4,
   "metadata": {},
   "outputs": [
    {
     "data": {
      "image/png": "[encoded data removed]",
      "text/plain": [
       "<Figure size 432x288 with 4 Axes>"
      ]
     },
     "metadata": {
      "needs_background": "light"
     },
     "output_type": "display_data"
    }
   ],
   "source": [
    "my_n = 27 # TODO: выбрать число\n",
    "fig, axs = plt.subplots(2,2)\n",
    "\n",
    "n_bins_values = [5, 10, 15, my_n]\n",
    "\n",
    "for i in range(4):\n",
    "    n_bins = n_bins_values[i]\n",
    "    picture = axs[i // 2][i % 2]\n",
    "    picture.hist(x.data(), bins=n_bins)\n",
    "    picture.set_title('$n_{bins}$ = {}'.format(n_bins, bins='{bins}'), fontsize=24)"
   ]
  },
  {
   "cell_type": "markdown",
   "metadata": {},
   "source": [
    "## 3. Критерий хи-квадрат\n",
    "\n",
    "*а)* Статистическая гипотеза $H_0: X \\sim N$"
   ]
  },
  {
   "cell_type": "code",
   "execution_count": 5,
   "metadata": {},
   "outputs": [
    {
     "name": "stdout",
     "output_type": "stream",
     "text": [
      "4.520891163112317 (0.020100671707002887, 9.21034037197618) 0.1043039984608688\n",
      "12.689412233064335 (1.2390423055679303, 18.475306906582357) 0.08004723720621676\n",
      "26.18862587251164 (3.5705689706043926, 26.216967305535853) 0.010093096876881535\n",
      "41.10661858437109 (10.856361475532282, 42.97982013935165) 0.016213818964320836\n"
     ]
    },
    {
     "data": {
      "text/html": [
       "<table width=\"100%\" class=\"htable\">\n",
       "    <thead><tr><th>Число интервалов группировки</th><th>Выборочное значение статистики критерия</th><th>p-value</th><th>Статистическое решение при $\\alpha$ = 0.01</th><th>Ошибка статистического решения</th></tr></thead>\n",
       "    <tbody><tr><td>5</td><td>4.5209</td><td>0.1043</td><td>H0</td><td></td></tr><tr><td>10</td><td>12.6894</td><td>0.08</td><td>H0</td><td></td></tr><tr><td>15</td><td>26.1886</td><td>0.0101</td><td>H0</td><td></td></tr><tr><td>27</td><td>41.1066</td><td>0.0162</td><td>H0</td><td></td></tr></tbody>\n",
       "    </table>"
      ],
      "text/plain": [
       "<IPython.core.display.HTML object>"
      ]
     },
     "metadata": {},
     "output_type": "display_data"
    }
   ],
   "source": [
    "from s import Pierson1SampledHyp\n",
    "import math\n",
    "\n",
    "alpha = 0.01\n",
    "\n",
    "normal_dist = stats.norm(X.mean(), X.std())\n",
    "\n",
    "def table_row(n, proposed_dist, excepted_dec):\n",
    "    start = x.min()\n",
    "    end = x.max()\n",
    "    step = (end - start) / n\n",
    "    \n",
    "    h0 = Pierson1SampledHyp(\n",
    "        bins=np.arange(start, end + step, step),\n",
    "        unknown_params_n=2\n",
    "    )\n",
    "    criterion_v, critical_v, p_v, passed = h0.full_test(dist=proposed_dist, sample=x, alpha=alpha)\n",
    "    print(criterion_v, critical_v, p_v)\n",
    "    decision = 'H0' if passed else 'H1'\n",
    "    err = \"\"\n",
    "    if decision != excepted_dec:\n",
    "        err = \"Ошибка 1-го рода\" if excepted_dec == \"H0\" else \"Ошибка 2-го рода\"\n",
    "            \n",
    "    return [n, round(criterion_v, 4), round(p_v, 4), decision, err]\n",
    "\n",
    "table(\n",
    "    [\n",
    "        'Число интервалов группировки',\n",
    "        'Выборочное значение статистики критерия',\n",
    "        'p-value',\n",
    "        'Статистическое решение при $\\\\alpha$ = {}'.format(alpha),\n",
    "        'Ошибка статистического решения'\n",
    "    ],\n",
    "    [\n",
    "        table_row(5, normal_dist, 'H0'),\n",
    "        table_row(10, normal_dist,'H0' ),\n",
    "        table_row(15, normal_dist, 'H0'),\n",
    "        table_row(my_n, normal_dist, 'H0'),\n",
    "    ]\n",
    ")"
   ]
  },
  {
   "cell_type": "markdown",
   "metadata": {},
   "source": [
    "---\n",
    "\n",
    "*б)* Статистическая гипотеза $H_0: X \\sim R$"
   ]
  },
  {
   "cell_type": "code",
   "execution_count": 6,
   "metadata": {},
   "outputs": [
    {
     "name": "stdout",
     "output_type": "stream",
     "text": [
      "72.00000000000003 (0.020100671707002887, 9.21034037197618) 2.220446049250313e-16\n",
      "81.79999999999995 (1.2390423055679303, 18.475306906582357) 5.88418203051333e-15\n",
      "107.00000000000003 (3.5705689706043926, 26.216967305535853) 0.0\n",
      "116.53999999999998 (10.856361475532282, 42.97982013935165) 3.9968028886505635e-14\n"
     ]
    },
    {
     "data": {
      "text/html": [
       "<table width=\"100%\" class=\"htable\">\n",
       "    <thead><tr><th>Число интервалов группировки</th><th>Выборочное значение статистики критерия</th><th>p-value</th><th>Статистическое решение при $\\alpha$ = 0.01</th><th>Ошибка статистического решения</th></tr></thead>\n",
       "    <tbody><tr><td>5</td><td>72.0</td><td>0.0</td><td>H1</td><td></td></tr><tr><td>10</td><td>81.8</td><td>0.0</td><td>H1</td><td></td></tr><tr><td>15</td><td>107.0</td><td>0.0</td><td>H1</td><td></td></tr><tr><td>27</td><td>116.54</td><td>0.0</td><td>H1</td><td></td></tr></tbody>\n",
       "    </table>"
      ],
      "text/plain": [
       "<IPython.core.display.HTML object>"
      ]
     },
     "metadata": {},
     "output_type": "display_data"
    }
   ],
   "source": [
    "uniform_dist = stats.uniform(x.min(),x.max() - x.min())\n",
    "table(\n",
    "    [\n",
    "        'Число интервалов группировки',\n",
    "        'Выборочное значение статистики критерия',\n",
    "        'p-value',\n",
    "        'Статистическое решение при $\\\\alpha$ = {}'.format(alpha),\n",
    "        'Ошибка статистического решения'\n",
    "    ],\n",
    "    [\n",
    "        table_row(5, uniform_dist,\"H1\"),\n",
    "        table_row(10, uniform_dist,\"H1\"),\n",
    "        table_row(15, uniform_dist,\"H1\"),\n",
    "        table_row(my_n, uniform_dist,\"H1\"),\n",
    "    ]\n",
    ")"
   ]
  },
  {
   "cell_type": "markdown",
   "metadata": {},
   "source": [
    "---\n",
    "\n",
    "*в)* Статистическая гипотеза $H_0: X \\sim \\chi^2(5)$"
   ]
  },
  {
   "cell_type": "code",
   "execution_count": 7,
   "metadata": {},
   "outputs": [
    {
     "name": "stdout",
     "output_type": "stream",
     "text": [
      "79.04355142523401 (0.020100671707002887, 9.21034037197618) 0.0\n",
      "84.08400322411332 (1.2390423055679303, 18.475306906582357) 1.9984014443252818e-15\n",
      "107.78484684661068 (3.5705689706043926, 26.216967305535853) 0.0\n",
      "118.94644527310292 (10.856361475532282, 42.97982013935165) 1.4988010832439613e-14\n"
     ]
    },
    {
     "data": {
      "text/html": [
       "<table width=\"100%\" class=\"htable\">\n",
       "    <thead><tr><th>Число интервалов группировки</th><th>Выборочное значение статистики критерия</th><th>p-value</th><th>Статистическое решение при $\\alpha$ = 0.01</th><th>Ошибка статистического решения</th></tr></thead>\n",
       "    <tbody><tr><td>5</td><td>79.0436</td><td>0.0</td><td>H1</td><td></td></tr><tr><td>10</td><td>84.084</td><td>0.0</td><td>H1</td><td></td></tr><tr><td>15</td><td>107.7848</td><td>0.0</td><td>H1</td><td></td></tr><tr><td>27</td><td>118.9464</td><td>0.0</td><td>H1</td><td></td></tr></tbody>\n",
       "    </table>"
      ],
      "text/plain": [
       "<IPython.core.display.HTML object>"
      ]
     },
     "metadata": {},
     "output_type": "display_data"
    }
   ],
   "source": [
    "chi2_dist = stats.chi2(5)\n",
    "table(\n",
    "    [\n",
    "        'Число интервалов группировки',\n",
    "        'Выборочное значение статистики критерия',\n",
    "        'p-value',\n",
    "        'Статистическое решение при $\\\\alpha$ = {}'.format(alpha),\n",
    "        'Ошибка статистического решения'\n",
    "    ],\n",
    "    [\n",
    "        table_row(5, chi2_dist, \"H1\"),\n",
    "        table_row(10, chi2_dist, \"H1\"),\n",
    "        table_row(15, chi2_dist, \"H1\"),\n",
    "        table_row(my_n, chi2_dist, \"H1\"),\n",
    "    ]\n",
    ")"
   ]
  },
  {
   "cell_type": "markdown",
   "metadata": {},
   "source": [
    "## 4. Критерий Колмогорова"
   ]
  },
  {
   "cell_type": "code",
   "execution_count": 8,
   "metadata": {},
   "outputs": [
    {
     "data": {
      "text/html": [
       "<table width=\"100%\" class=\"htable\">\n",
       "    <thead><tr><th>Статистическая гипотеза $H_0$</th><th>Выборочное значение статистики критерия</th><th>p-value</th><th>Статистическое решение при $\\alpha$ = 0.01</th><th>Ошибка статистического решения</th></tr></thead>\n",
       "    <tbody><tr><td>$X \\sim N(m, \\sigma)$</td><td>0.07700647773206287</td><td>0.5809171420546964</td><td>H0</td><td>-</td></tr><tr><td>$X \\sim R$</td><td>0.3145523323149443</td><td>2.7144864134243107e-09</td><td>H1</td><td>-</td></tr><tr><td>$X \\sim \\chi^2(5)$</td><td>0.28695758743635796</td><td>8.7744030929926e-08</td><td>H1</td><td>-</td></tr></tbody>\n",
       "    </table>"
      ],
      "text/plain": [
       "<IPython.core.display.HTML object>"
      ]
     },
     "metadata": {},
     "output_type": "display_data"
    }
   ],
   "source": [
    "alpha = 0.01\n",
    "def table_row_ks(string, dist, sample, excepted):\n",
    "    ks_result = stats.kstest(x.data(), dist.cdf)\n",
    "    decision = None\n",
    "    if stats.ksone.ppf(1-alpha, nx) > ks_result.statistic:\n",
    "        decision = \"H0\"\n",
    "    else:\n",
    "        decision = \"H1\"\n",
    "    err = \"-\"\n",
    "    if decision != excepted:\n",
    "        err = \"Ошибка 1-го рода\" if excepted == \"H0\" else \"Ошибка 2-го рода\"\n",
    "    return string, ks_result.statistic, ks_result.pvalue, decision, err\n",
    "\n",
    "table(\n",
    "    [\n",
    "        'Статистическая гипотеза $H_0$',\n",
    "        'Выборочное значение статистики критерия',\n",
    "        'p-value',\n",
    "        'Статистическое решение при $\\\\alpha$ = {}'.format(alpha),\n",
    "        'Ошибка статистического решения'\n",
    "    ],\n",
    "    [\n",
    "        table_row_ks('$X \\\\sim N(m, \\\\sigma)$', normal_dist, x, \"H0\"),\n",
    "        table_row_ks('$X \\\\sim R$', uniform_dist, x, \"H1\"),\n",
    "        table_row_ks('$X \\\\sim \\\\chi^2(5)$', chi2_dist, x, \"H1\"),\n",
    "    ]\n",
    ")\n"
   ]
  },
  {
   "cell_type": "code",
   "execution_count": 9,
   "metadata": {
    "scrolled": false
   },
   "outputs": [
    {
     "data": {
      "image/png": "[encoded data removed]",
      "text/plain": [
       "<Figure size 432x288 with 1 Axes>"
      ]
     },
     "metadata": {
      "needs_background": "light"
     },
     "output_type": "display_data"
    }
   ],
   "source": [
    "h0_distributions = [\n",
    "    ('N', normal_dist),\n",
    "    ('R', uniform_dist),\n",
    "    ('Chi2', chi2_dist)\n",
    "]\n",
    "\n",
    "\n",
    "fig, ax = plt.subplots()\n",
    "ax.set_title('Эмпирическая и теоретические функции распределения')\n",
    "\n",
    "for name, dist in h0_distributions:\n",
    "    domain = np.linspace(\n",
    "        max(-2.5, dist.ppf(0.001)),\n",
    "        min(10, dist.ppf(0.999)),\n",
    "        200\n",
    "    )\n",
    "    values = dist.cdf(domain)\n",
    "    ax.plot(domain, values, lw=5, label=name)\n",
    "    ax.fill_between(domain, 0, values, alpha=.2)\n",
    "    \n",
    "ecdf = ECDF(x.data())\n",
    "domain = np.linspace(x.min(), x.max(), x.n() * 2)\n",
    "values = ecdf(domain)\n",
    "ax.plot(domain, values, lw=5, label='ECDF')\n",
    "ax.fill_between(domain, 0, values, alpha=.2)\n",
    "\n",
    "ax.legend(prop={'size': 32})\n",
    "    \n",
    "fig.tight_layout()\n",
    "plt.show()"
   ]
  },
  {
   "cell_type": "markdown",
   "metadata": {},
   "source": [
    "# 5. Двухвыборочные критерии"
   ]
  },
  {
   "cell_type": "code",
   "execution_count": 10,
   "metadata": {},
   "outputs": [
    {
     "name": "stdout",
     "output_type": "stream",
     "text": [
      "Характеристики СВ Y:\n"
     ]
    },
    {
     "data": {
      "text/html": [
       "<table width=\"100%\" class=\"htable\">\n",
       "    <thead><tr><th>Распределение</th><th>Параметры</th><th>Мат. ожидание $m$</th><th>Дисперсия $\\sigma^2$</th></tr></thead>\n",
       "    <tbody><tr><td>N(5, 2)</td><td>5, 2</td><td>5.0</td><td>2.0000000000000004</td></tr></tbody>\n",
       "    </table>"
      ],
      "text/plain": [
       "<IPython.core.display.HTML object>"
      ]
     },
     "metadata": {},
     "output_type": "display_data"
    },
    {
     "name": "stdout",
     "output_type": "stream",
     "text": [
      "Характеристики выборки y\n"
     ]
    },
    {
     "data": {
      "text/html": [
       "<table width=\"100%\" class=\"htable\">\n",
       "    <thead><tr><th>Среднее, $\\overline{x}$</th><th>Оценка дисперсии, $s^2$</th><th>Оценка с.к.о., $s$</th></tr></thead>\n",
       "    <tbody><tr><td>5.377996613324537</td><td>1.538181684192605</td><td>1.240234527898899</td></tr></tbody>\n",
       "    </table>"
      ],
      "text/plain": [
       "<IPython.core.display.HTML object>"
      ]
     },
     "metadata": {},
     "output_type": "display_data"
    }
   ],
   "source": [
    "print('Характеристики СВ Y:')\n",
    "table(\n",
    "    ['Распределение', 'Параметры', 'Мат. ожидание $m$', 'Дисперсия $\\\\sigma^2$'],\n",
    "    [['N(5, 2)','5, 2', Y.mean(), Y.var()]],\n",
    ")\n",
    "\n",
    "print('Характеристики выборки y')\n",
    "table(\n",
    "    ['Среднее, $\\\\overline{x}$', 'Оценка дисперсии, $s^2$', 'Оценка с.к.о., $s$'],\n",
    "    [[y.mean(), y.s()**2, y.s()]]\n",
    ")"
   ]
  },
  {
   "cell_type": "code",
   "execution_count": 11,
   "metadata": {},
   "outputs": [
    {
     "data": {
      "text/plain": [
       "<matplotlib.legend.Legend at 0x1a17adfbe0>"
      ]
     },
     "execution_count": 11,
     "metadata": {},
     "output_type": "execute_result"
    },
    {
     "data": {
      "image/png": "[encoded data removed]",
      "text/plain": [
       "<Figure size 432x288 with 2 Axes>"
      ]
     },
     "metadata": {
      "needs_background": "light"
     },
     "output_type": "display_data"
    }
   ],
   "source": [
    "fig, ax = plt.subplots(1, 2)\n",
    "\n",
    "left_plot = ax[0]\n",
    "right_plot = ax[1]\n",
    "\n",
    "min_val = max(x.min(), y.min())\n",
    "max_val = min(x.max(), y.max())\n",
    "clipped_x = np.clip(x.data(), min_val, max_val)\n",
    "clipped_y = np.clip(y.data(), min_val, max_val)\n",
    "\n",
    "left_plot.set_title('HIST: X, Y')\n",
    "left_plot.hist(clipped_x, bins=10, label='x', alpha=.5)\n",
    "left_plot.hist(clipped_y, bins=10, label='y', alpha=.5)\n",
    "left_plot.legend()\n",
    "\n",
    "\n",
    "right_plot.set_title('ECDF: X, Y');\n",
    "xecdf = ECDF(x.data())\n",
    "xdomain = np.linspace(x.min(), x.max(), x.n() * 2)\n",
    "xvalues = xecdf(xdomain)\n",
    "ax[1].plot(xdomain, xvalues, lw=5, label='x')\n",
    "yecdf = ECDF(y.data())\n",
    "ydomain = np.linspace(y.min(), y.max(), y.n() * 2)\n",
    "yvalues = yecdf(ydomain)\n",
    "ax[1].plot(ydomain, yvalues, lw=5, label='y')\n",
    "right_plot.legend()\n",
    "\n",
    "\n",
    "# TODO: ECDF"
   ]
  },
  {
   "cell_type": "code",
   "execution_count": 12,
   "metadata": {},
   "outputs": [
    {
     "data": {
      "text/html": [
       "<table width=\"100%\" class=\"htable\">\n",
       "    <thead><tr><th>Критерий</th><th>Статистическая гипотеза $H_0$</th><th>Выборочное значение статистики критерия</th><th>p-value</th><th>Статистическое решение при $\\alpha$ = 0.01</th><th>Ошибка статистического решения</th></tr></thead>\n",
       "    <tbody><tr><td>Chi-squared</td><td>X ~ Y</td><td>5.7333</td><td>0.8371</td><td>H0</td><td>-</td></tr><tr><td>KS-test</td><td>X ~ Y</td><td>0.18</td><td>0.0691</td><td>H1</td><td>Ошибка 1-го рода</td></tr><tr><td>Sign test</td><td>X ~ Y</td><td>-0.4</td><td>0.6892</td><td>H0</td><td>-</td></tr><tr><td>U-test</td><td>X ~ Y</td><td>-1.6786</td><td>0.0467</td><td>H0</td><td>-</td></tr></tbody>\n",
       "    </table>"
      ],
      "text/plain": [
       "<IPython.core.display.HTML object>"
      ]
     },
     "metadata": {},
     "output_type": "display_data"
    }
   ],
   "source": [
    "alpha = 0.01\n",
    "from s import Pierson2SampledHyp\n",
    "from functools import *\n",
    "def sign_test(x, y):\n",
    "    n = len(list(filter(lambda t: t != 0, list(x - y))))\n",
    "    K = len(list(filter(lambda t: t > 0, list(x - y))))\n",
    "    H = K/n\n",
    "    z = 2 * np.sqrt(n) * (H - 1/2)\n",
    "    left_p = stats.norm.cdf(z, 0, 1)\n",
    "    p_value = 2 * min(left_p, 1 - left_p)\n",
    "    return z, p_value\n",
    "\n",
    "def chi2_row(text):\n",
    "    start = math.floor(min(x.min(), y.min()))\n",
    "    end = math.ceil(max(x.max(), y.max()))\n",
    "    step = (end - start) / 10\n",
    "    \n",
    "    h0 = Pierson2SampledHyp(\n",
    "        bins=np.arange(start, end + step, step),\n",
    "    )\n",
    "    criterion_v, critical_v, p_v, passed = h0.full_test(x, y, alpha)\n",
    "    decision = 'H0' if passed else 'H1'\n",
    "    err = \"-\"\n",
    "    if decision != 'H0':\n",
    "        err = \"Ошибка 1-го рода\"\n",
    "            \n",
    "    return [text, \"X ~ Y\", round(criterion_v, 4), round(p_v, 4), decision, err]\n",
    "def ks_row(text):\n",
    "    criterion_v, p_v = stats.ks_2samp(x.data(), y.data())\n",
    "    decision = \"\"\n",
    "    if stats.ksone.ppf(1-alpha, nx) > criterion_v:\n",
    "        decision = \"H0\"\n",
    "    else:\n",
    "        decision = \"H1\"\n",
    "    err = \"-\"\n",
    "    if decision != 'H0':\n",
    "        err = \"Ошибка 1-го рода\"\n",
    "    return [text, \"X ~ Y\", round(criterion_v, 4), round(p_v, 4), decision, err]\n",
    "def sign_row(text):\n",
    "    criterion_v, p_v = sign_test(x.data(), y.data())\n",
    "    decision = \"\"\n",
    "    if  abs(criterion_v) < stats.norm.ppf(1-alpha/2, 0, 1):\n",
    "        decision = \"H0\"\n",
    "    else:\n",
    "        decision = \"H1\"\n",
    "    err = \"-\"\n",
    "    if decision != 'H0':\n",
    "        err = \"Ошибка 1-го рода\"\n",
    "    return [text, \"X ~ Y\", round(criterion_v, 4), round(p_v, 4), decision, err]\n",
    "def u_row(text):\n",
    "    criterion_v, p_v = stats.mannwhitneyu(x.data(), y.data())\n",
    "    criterion_v = (criterion_v - nx*ny/2)/np.sqrt(nx*ny*(nx +ny + 1)/12)\n",
    "    if  abs(criterion_v) < stats.norm.ppf(1-alpha/2, 0, 1):\n",
    "        decision = \"H0\"\n",
    "    else:\n",
    "        decision = \"H1\"\n",
    "    err = \"-\"\n",
    "    if decision != 'H0':\n",
    "        err = \"Ошибка 1-го рода\"\n",
    "    return [text, \"X ~ Y\", round(criterion_v, 4), round(p_v, 4), decision, err]\n",
    "\n",
    "table(\n",
    "    [\n",
    "        'Критерий',\n",
    "        'Статистическая гипотеза $H_0$',\n",
    "        'Выборочное значение статистики критерия',\n",
    "        'p-value',\n",
    "        'Статистическое решение при $\\\\alpha$ = {}'.format(alpha),\n",
    "        'Ошибка статистического решения'\n",
    "    ],\n",
    "    [\n",
    "        chi2_row('Chi-squared'),\n",
    "        ks_row('KS-test'),\n",
    "        sign_row('Sign test'),\n",
    "        u_row('U-test'),\n",
    "    ]\n",
    ")"
   ]
  },
  {
   "cell_type": "code",
   "execution_count": null,
   "metadata": {},
   "outputs": [],
   "source": []
  },
  {
   "cell_type": "code",
   "execution_count": null,
   "metadata": {},
   "outputs": [],
   "source": []
  }
 ],
 "metadata": {
  "kernelspec": {
   "display_name": "Python 3",
   "language": "python",
   "name": "python3"
  },
  "language_info": {
   "codemirror_mode": {
    "name": "ipython",
    "version": 3
   },
   "file_extension": ".py",
   "mimetype": "text/x-python",
   "name": "python",
   "nbconvert_exporter": "python",
   "pygments_lexer": "ipython3",
   "version": "3.7.0"
  }
 },
 "nbformat": 4,
 "nbformat_minor": 2
}
